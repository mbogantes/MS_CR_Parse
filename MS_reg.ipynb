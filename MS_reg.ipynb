{
  "nbformat": 4,
  "nbformat_minor": 0,
  "metadata": {
    "colab": {
      "name": "MS_reg.ipynb",
      "provenance": [],
      "collapsed_sections": [],
      "include_colab_link": true
    },
    "kernelspec": {
      "name": "python3",
      "display_name": "Python 3"
    }
  },
  "cells": [
    {
      "cell_type": "markdown",
      "metadata": {
        "id": "view-in-github",
        "colab_type": "text"
      },
      "source": [
        "<a href=\"https://colab.research.google.com/github/mbogantes/MS_CR_Parse/blob/master/MS_reg.ipynb\" target=\"_parent\"><img src=\"https://colab.research.google.com/assets/colab-badge.svg\" alt=\"Open In Colab\"/></a>"
      ]
    },
    {
      "cell_type": "code",
      "metadata": {
        "id": "wsxBiSOqSUmE",
        "colab_type": "code",
        "colab": {}
      },
      "source": [
        "import pandas as pd\n",
        "import numpy as np"
      ],
      "execution_count": 0,
      "outputs": []
    },
    {
      "cell_type": "code",
      "metadata": {
        "id": "mdb1rAW5T1D3",
        "colab_type": "code",
        "colab": {}
      },
      "source": [
        "filename = \"path/to/file.xlsx\""
      ],
      "execution_count": 0,
      "outputs": []
    },
    {
      "cell_type": "code",
      "metadata": {
        "id": "0CEU4SMvSoFl",
        "colab_type": "code",
        "colab": {}
      },
      "source": [
        "raw_df=pd.read_excel(filename,usecols=[0,2,3,4,6],skiprows=[0,1,2,3], names=[\"Index\", \"Principio_activo\", \"Fabricante\", \"Solicitante\", \"Nuevo\"]  )"
      ],
      "execution_count": 0,
      "outputs": []
    },
    {
      "cell_type": "code",
      "metadata": {
        "id": "1jcWT6fQS0W3",
        "colab_type": "code",
        "colab": {}
      },
      "source": [
        "clean_df=raw_df.drop_duplicates()\n",
        "clean_df = clean_df.drop(clean_df.index[clean_df['Index'].isin([\"#\", \"Reporte de productos en trámites\"])])\n",
        "clean_df = clean_df.dropna(axis = 0, subset =[\"Principio_activo\", \"Fabricante\", \"Solicitante\"], how=\"all\")\n",
        "df=clean_df.reset_index(drop=True)"
      ],
      "execution_count": 0,
      "outputs": []
    },
    {
      "cell_type": "code",
      "metadata": {
        "id": "giTTYmzdYIKM",
        "colab_type": "code",
        "colab": {}
      },
      "source": [
        "imp_names = [1,2,3,4]\n",
        "indexes = list(df.index[df['Index'].isna()])\n",
        "for i in indexes:\n",
        "  for j in imp_names:\n",
        "    if str(df.iloc[i][j]) != \"nan\":\n",
        "      df.iloc[i-1][j]= str(str(df.iloc[i-1][j]) + str(df.iloc[i][j]))\n",
        "\n",
        "for i in indexes:\n",
        "  df = df.drop(i)\n",
        "   \n",
        "df=df.reset_index(drop=True)"
      ],
      "execution_count": 0,
      "outputs": []
    },
    {
      "cell_type": "code",
      "metadata": {
        "id": "fNq9YhlSrKJs",
        "colab_type": "code",
        "colab": {}
      },
      "source": [
        "indexes2 = list(df.index[df['Nuevo'].notna()])\n",
        "for i in indexes2:\n",
        "  if str(df.loc[i][\"Principio_activo\"]) == \"nan\":\n",
        "    df.loc[i][\"Principio_activo\"]=  str(df.loc[i][\"Nuevo\"])\n",
        "  else:\n",
        "    df.loc[i][\"Principio_activo\"]= str(str(df.loc[i][\"Principio_activo\"]) + \" \" + str(df.loc[i][\"Nuevo\"]))"
      ],
      "execution_count": 0,
      "outputs": []
    },
    {
      "cell_type": "code",
      "metadata": {
        "id": "lWbqg-jYrLNH",
        "colab_type": "code",
        "colab": {}
      },
      "source": [
        "df = df.drop(axis = 1, columns = [\"Index\",\"Nuevo\"])"
      ],
      "execution_count": 0,
      "outputs": []
    },
    {
      "cell_type": "code",
      "metadata": {
        "id": "TDZDP0td_YIx",
        "colab_type": "code",
        "colab": {}
      },
      "source": [
        ""
      ],
      "execution_count": 0,
      "outputs": []
    }
  ]
}